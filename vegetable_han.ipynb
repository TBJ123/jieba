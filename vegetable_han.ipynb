{
 "cells": [
  {
   "cell_type": "code",
   "execution_count": 12,
   "metadata": {},
   "outputs": [
    {
     "name": "stderr",
     "output_type": "stream",
     "text": [
      "Building prefix dict from C:\\Users\\TBJ\\pythonwork\\dictionary\\dictionaryTW.txt ...\n",
      "Loading model from cache C:\\Users\\TBJ\\AppData\\Local\\Temp\\jieba.u4c8c409cba9c887d16dbe881bed68712.cache\n",
      "Loading model cost 0.534 seconds.\n",
      "Prefix dict has been built successfully.\n"
     ]
    },
    {
     "name": "stdout",
     "output_type": "stream",
     "text": [
      "Counter({'的': 127, '、': 41, '我們': 34, '是': 32, '台灣': 23, '與': 22, '\\n': 20, '中華民國': 19, '在': 18, '國家': 17, ' ': 14, '從': 12, '到': 12, '也': 12, '一個': 12, '他們': 12, '社會': 10, '我': 9, '不': 9, '「': 9, '」': 9, '民主': 8, '有': 8, '為': 8, '而': 8, '人民': 8, '？': 8, '！': 7, '國旗': 7, '和': 7, '誰': 7, '都': 6, '民進黨': 6, '把': 6, '今天': 5, '歷史': 5, '而是': 5, '讓': 5, '大家': 4, '裡': 4, '開放': 4, '來': 4, '了': 4, '血汗': 4, '為了': 4, '因為': 4, '超越': 4, '世代': 4, '所有': 4, '沒有': 4, '更': 4, '比': 4, '；': 4, '各位': 3, '們': 3, '白日': 3, '滿地紅': 3, '：': 3, '這是': 3, '日': 3, '奮鬥': 3, '付出': 3, '生命': 3, '先賢': 3, '先烈': 3, '這個': 3, '這片': 3, '土地': 3, '共同': 3, '曾經': 3, '一起': 3, '奇蹟': 3, '可是': 3, '或': 3, '街頭': 3, '最': 3, '真實': 3, '人': 3, '政府': 3, '再': 3, '現在': 3, '年輕人': 3, '亡國': 3, '感': 3, '藍綠': 3, '飄': 3, '認同': 3, '請': 3, '青天': 3, '未來': 3, '機會': 3, '需要': 3, '生日': 2, '高雄': 2, '升起': 2, '前': 2, '看到': 2, '許多': 2, '一段': 2, '對': 2, '內戰': 2, '安定': 2, '繁榮': 2, '戒嚴': 2, '科技': 2, '歲月': 2, '苦難': 2, '榮耀': 2, '然而': 2, '無論': 2, '任何': 2, '曾': 2, '感謝': 2, '大': 2, '時代': 2, '發展': 2, '建立': 2, '無數': 2, '不能': 2, '和平': 2, '自由': 2, '鮮血': 2, '眼淚': 2, '記憶': 2, '走過': 2, '改革': 2, '農村': 2, '萬': 2, '用': 2, '經濟': 2, '中美': 2, '斷交': 2, '國際': 2, '打拼': 2, '民間': 2, '運動': 2, '時': 2, '兩岸': 2, '新': 2, '努力': 2, '才': 2, '成': 2, '創造': 2, '幾代人': 2, '就是': 2, '這些': 2, '年': 2, '過去': 2, '民眾': 2, '變成': 2, '高傲': 2, '將': 2, '美好': 2, '老師': 2, '軍人': 2, '警消': 2, '安全': 2, '可以': 2, '掉': 2, '關係': 2, '軍公教': 2, '總統': 2, '上': 2, '輝煌': 2, '伴隨': 2, '成長': 2, '惡鬥': 2, '對立': 2, '虛耗': 2, '一年': 2, '蕭條': 2, '過': 2, '旗': 2, '只是': 2, '政黨': 2, '輪替': 2, '競爭': 2, '底線': 2, '著': 2, '2300': 2, '國運': 2, '如果': 2, '深愛': 2, '年輕': 2, '10': 2, '月': 2, '明年': 2, '祝': 2, '先進': 1, '鄉親': 1, '好朋友': 1, '早上': 1, '好': 1, '歡迎': 1, '參加': 1, '慶祝': 1, '108': 1, '歲': 1, '國慶': 1, '升旗': 1, '典禮': 1, '剛剛': 1, '當我': 1, '仰頭': 1, '看著': 1, '們青': 1, '天': 1, '眼前': 1, '冉冉': 1, '展覽館': 1, '溫暖': 1, '陽光': 1, '在場': 1, '朋友': 1, '眼底': 1, '泛起': 1, '淚光': 1, '心潮': 1, '澎湃': 1, '萬千': 1, '感慨': 1, '一百零八歲': 1, '我要': 1, '此': 1, '先': 1, '恭賀': 1, '生日快樂': 1, '一百零八個': 1, '年頭': 1, '多麼': 1, '容易': 1, '旅程': 1, '軍閥': 1, '混戰': 1, '抗戰': 1, '國共': 1, '退守': 1, '生死': 1, '存亡': 1, '體制': 1, '茅草': 1, '土屋': 1, '高樓': 1, '大廈': 1, '農業': 1, '工業': 1, '一百零八年': 1, '失敗': 1, '成功': 1, '角度': 1, '看': 1, '了不起': 1, '三萬六千': 1, '平方公里': 1, '實現': 1, '中華民族': 1, '五千年': 1, '從未': 1, '做到': 1, '政治': 1, '完成': 1, '夾縫': 1, '求生': 1, '蕞爾': 1, '小島': 1, '舉足輕重': 1, '關鍵': 1, '華麗': 1, '轉身': 1, '此刻': 1, '必須': 1, '每': 1, '那些': 1, '民國': 1, '慷慨': 1, '赴義': 1, '革命': 1, '烈士': 1, '自治': 1, '奮勇': 1, '抵禦': 1, '外辱': 1, '前輩': 1, '憂患': 1, '死傷': 1, '仁人志士': 1, '忘記': 1, '以及': 1, '家屬': 1, '之上': 1, '才能': 1, '偏安': 1, '一隅': 1, '寶島': 1, '創造出': 1, '對於': 1, '五十年代': 1, '後': 1, '變化': 1, '成千上': 1, '青年': 1, '男女': 1, '大清早': 1, '紅綠燈': 1, '排隊': 1, '走進': 1, '加工': 1, '出口區': 1, '青春': 1, '汗水': 1, '打造出': 1, '製造': 1, '退出': 1, '聯合國': 1, '時候': 1, '徬徨': 1, '無依': 1, '有如': 1, '被': 1, '遺棄': 1, '孤兒': 1, '怕': 1, '挑戰': 1, '繼續': 1, '如今': 1, '享有': 1, '一百多個': 1, '地區': 1, '免': 1, '簽證': 1, '落地簽': 1, '還': 1, '一九八零年代': 1, '巨變': 1, '通過': 1, '召喚': 1, '並進': 1, '每一場': 1, '呼喊': 1, '庶民': 1, '心聲': 1, '當年': 1, '蔣經國': 1, '先生': 1, '呼應': 1, '要求': 1, '解除': 1, '黨禁': 1, '報禁': 1, '探親': 1, '打開': 1, '全新': 1, '格局': 1, '寫下': 1, '篇章': 1, '執政': 1, '在野': 1, '否認': 1, '力量': 1, '城市': 1, '工廠': 1, '流動': 1, '夜市': 1, '廠': 1, '每一個': 1, '匯集': 1, '改變': 1, '大江': 1, '大海': 1, '正是': 1, '建立起': 1, '這麼': 1, '黨派': 1, '族群': 1, '階級': 1, '這': 1, '存在': 1, '改寫': 1, '功勞': 1, '辛苦': 1, '當成': 1, '自己': 1, '功德': 1, '戰績': 1, '永遠': 1, '一付': 1, '欠': 1, '一樣': 1, '姿態': 1, '大眾': 1, '沉默': 1, '忍讓': 1, '之下': 1, '肆無忌憚': 1, '貪污': 1, '腐敗': 1, '濫權': 1, '所以': 1, '東廠': 1, '仍舊': 1, '肥貓': 1, '處處': 1, '生': 1, '帶到': 1, '所在': 1, '推向': 1, '還要': 1, '可怕': 1, '絕境': 1, '邊緣': 1, '痛惜': 1, '一': 1, '上任': 1, '即': 1, '開始': 1, '整肅': 1, '公務人員': 1, '一生': 1, '教育': 1, '奉獻': 1, '服務': 1, '公務員': 1, '捍衛': 1, '統統': 1, '抹黑': 1, '米蟲': 1, '原本': 1, '清白': 1, '敬業': 1, '中堅': 1, '蒙受': 1, '不白之冤': 1, '從此': 1, '無法': 1, '心平氣和': 1, '地': 1, '過日子': 1, '甚至': 1, '面對': 1, '平凡': 1, '樸素': 1, '工人': 1, '農漁民': 1, '毫不': 1, '手軟': 1, '幾乎': 1, '成為': 1, '笑話': 1, '一例': 1, '一休': 1, '勤奮': 1, '勞工': 1, '企業主': 1, '同時': 1, '逼上': 1, '絕路': 1, '一名': 1, '大學生': 1, '畢業生': 1, '年薪': 1, '不到': 1, '三十萬': 1, '比比皆是': 1, '但是': 1, '立委': 1, '兒子': 1, '卻': 1, '十年': 1, '薪水': 1, '高鐵': 1, '上還': 1, '不當': 1, '一回事': 1, '看看': 1, '一群': 1, '匪淺': 1, '人士': 1, '各種': 1, '國營': 1, '企業': 1, '坐': 1, '領百萬': 1, '高薪': 1, '辛勤': 1, '勞苦': 1, '同胞': 1, '勤勤懇懇': 1, '一輩子': 1, '退休金': 1, '養老': 1, '活命': 1, '錢': 1, '竟然': 1, '砍': 1, '得': 1, '心安理得': 1, '這叫': 1, '基層': 1, '怎麼': 1, '活下去': 1, '應該': 1, '態度': 1, '作為': 1, '嗎': 1, '最近': 1, '很多': 1, '談': 1, '想': 1, '請問': 1, '抹殺': 1, '誰將': 1, '擁有': 1, '主權': 1, '軍隊': 1, '矮化': 1, '一天到晚': 1, '拿': 1, '香港': 1, '特區': 1, '相提並論': 1, '邦交國': 1, '一直': 1, '就職': 1, '演說': 1, '國號': 1, '這四個': 1, '字': 1, '避': 1, '提': 1, '又': 1, '重要': 1, '節日': 1, '越來越': 1, '少': 1, '飄揚': 1, '很': 1, '深': 1, '我愛我': 1, '愛我': 1, '新一代': 1, '年青人': 1, '好看': 1, '聰明': 1, '生活': 1, '富裕': 1, '環境': 1, '可惜': 1, '這一': 1, '代': 1, '幸運': 1, '趕上': 1, '只有': 1, '還有': 1, '不如': 1, '景氣': 1, '經歷': 1, '雙十國慶': 1, '到處': 1, '一片': 1, '海飄': 1, '揚的': 1, '國恩': 1, '家慶': 1, '不曾': 1, '感受': 1, '亞洲': 1, '四小龍': 1, '得意': 1, '風光': 1, '那時': 1, '令': 1, '全球': 1, '讚嘆': 1, '之島': 1, '華人': 1, '歸仰': 1, '之光': 1, '從飄揚': 1, '沉寂': 1, '繁盛': 1, '衰弱': 1, '失去': 1, '揚旗': 1, '海': 1, '人心': 1, '中': 1, '那份': 1, '本來': 1, '派系': 1, '基本': 1, '常態': 1, '不應該': 1, '跨越': 1, '當': 1, '一旦': 1, '衝垮': 1, '踐踏': 1, '萬人': 1, '前程': 1, '福祉': 1, '國本': 1, '台澎': 1, '金馬': 1, '山川': 1, '河流': 1, '蜿蜒': 1, '海岸': 1, '人情': 1, '記住': 1, '顏色': 1, '從來': 1, '橘白': 1, '這面': 1, '乘載': 1, '擔任': 1, '除了': 1, '農': 1, '漁工': 1, '找回': 1, '應有': 1, '正義': 1, '公平': 1, '會': 1, '堅守': 1, '憲法': 1, '以': 1, '優先': 1, '堅持': 1, '守護': 1, '發揚': 1, '中華': 1, '文化': 1, '前提': 1, '穩定': 1, '並在': 1, '強化': 1, '國防': 1, '之餘': 1, '絕不': 1, '塑造': 1, '個': 1, '形象': 1, '而置': 1, '於': 1, '戰爭': 1, '危機': 1, '安全感': 1, '進入': 1, '職場': 1, '走上': 1, '戰場': 1, '雖然': 1, '換來': 1, '但': 1, '希望': 1, '運用': 1, '熱情': 1, '創意': 1, '知識': 1, '智慧': 1, '作伙': 1, '有錢': 1, '舉起': 1, '手中': 1, '熱愛': 1, '呈現': 1, '1': 1, '11': 1, '心中': 1, '那': 1, '再創': 1, '最後': 1, '但願': 1, '以後': 1, '囡仔': 1, '的將': 1, '不再': 1, '正': 1, '撥雲': 1, '見': 1, '昌隆': 1, '幸福': 1, '安康': 1})\n"
     ]
    },
    {
     "data": {
      "text/plain": [
       "<Figure size 432x432 with 0 Axes>"
      ]
     },
     "metadata": {},
     "output_type": "display_data"
    },
    {
     "data": {
      "image/png": "[encoded data removed]",
      "text/plain": [
       "<Figure size 432x288 with 1 Axes>"
      ]
     },
     "metadata": {
      "needs_background": "light"
     },
     "output_type": "display_data"
    },
    {
     "data": {
      "text/plain": [
       "<wordcloud.wordcloud.WordCloud at 0x1ca039a7fa0>"
      ]
     },
     "execution_count": 12,
     "metadata": {},
     "output_type": "execute_result"
    }
   ],
   "source": [
    "from PIL import Image\n",
    "import matplotlib.pyplot as plt\n",
    "from wordcloud import WordCloud\n",
    "import jieba\n",
    "import numpy as np\n",
    "from collections import Counter\n",
    "\n",
    "text = open(r'C:\\Users\\TBJ\\pythonwork\\vegetable_han.txt', \"r\",encoding=\"utf-8\").read()  #讀文字資料\n",
    "jieba.set_dictionary(r'C:\\Users\\TBJ\\pythonwork\\dictionary/dictionaryTW.txt')\n",
    "with open(r'C:\\Users\\TBJ\\pythonwork\\dictionary/stop_word.txt','r',encoding='utf-8-sig') as file:\n",
    "    stops = file.read().split('\\n')\n",
    "terms = []\n",
    "for t in jieba.cut(text,cut_all=False): #拆解句子\n",
    "    if t not in stops:\n",
    "        terms.append(t)\n",
    "diction = Counter(terms)\n",
    "print(diction)\n",
    "font = 'C:\\\\Windows\\\\Fonts\\\\kaiu.ttf'\n",
    "\n",
    "mask = np.array(Image.open(r'C:\\Users\\TBJ\\pythonwork\\star.png'))\n",
    "wordcloud = WordCloud(background_color='white',mask=mask,font_path=font)\n",
    "wordcloud.generate_from_frequencies(diction)#產生文字雲\n",
    "#產生圖片\n",
    "plt.figure(figsize=(6,6))\n",
    "plt.show(wordcloud)\n",
    "plt.axis('off')\n",
    "plt.show()\n",
    "wordcloud.to_file('news_wordcloud.png')"
   ]
  },
  {
   "cell_type": "code",
   "execution_count": null,
   "metadata": {},
   "outputs": [],
   "source": []
  }
 ],
 "metadata": {
  "kernelspec": {
   "display_name": "Python 3",
   "language": "python",
   "name": "python3"
  },
  "language_info": {
   "codemirror_mode": {
    "name": "ipython",
    "version": 3
   },
   "file_extension": ".py",
   "mimetype": "text/x-python",
   "name": "python",
   "nbconvert_exporter": "python",
   "pygments_lexer": "ipython3",
   "version": "3.8.5"
  }
 },
 "nbformat": 4,
 "nbformat_minor": 4
}
